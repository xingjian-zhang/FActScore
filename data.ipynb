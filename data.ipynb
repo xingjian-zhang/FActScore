{
 "cells": [
  {
   "cell_type": "code",
   "execution_count": 38,
   "metadata": {},
   "outputs": [],
   "source": [
    "import json\n",
    "example = {}\n",
    "list1 = []\n",
    "list1.append(\"The authors propose a new task.\")\n",
    "list1.append(\"The task is named Multilingual MMT task.\")\n",
    "list1.append(\"The task is multilingual.\")\n",
    "list1.append(\"The authors provide a baseline model.\")\n",
    "list1.append(\"The baseline model is named LVP-M3.\")\n",
    "list1.append(\"The model is effective.\")\n",
    "list1.append(\"The model uses visual prompts.\")\n",
    "list1.append(\"The model supports translations between different languages.\")\n",
    "example[\"The authors propose the Multilingual MMT task and provide an effective baseline model LVP-M3 using visual prompts to support translations between different languages. \"]= list1"
   ]
  },
  {
   "cell_type": "code",
   "execution_count": 39,
   "metadata": {},
   "outputs": [],
   "source": [
    "list1 = []\n",
    "list1.append(\"The authors propose a novel method.\")\n",
    "list1.append(\"The method is a deep clustering method.\")\n",
    "list1.append(\"The method is named PartItion Confidence mAximisation (PICA).\")\n",
    "list1.append(\"The method is established on an idea.\")\n",
    "list1.append(\"The idea is about learning data separation.\")\n",
    "list1.append(\"The data separation is semantically plausible.\")\n",
    "list1.append(\"The method works by maximising something.\")\n",
    "list1.append(\"The method maximises the global partition confidence.\")\n",
    "list1.append(\"The method maximises the global partition confidence of clustering solution.\")\n",
    "example[\"The authors propose a novel deep clustering method named PartItion Confidence mAximisation (PICA). PICA is established on the idea of learning the most semantically plausible data separation by maximising the global partition confidence of clustering solution\"] = list1"
   ]
  },
  {
   "cell_type": "code",
   "execution_count": 40,
   "metadata": {},
   "outputs": [],
   "source": [
    "# list1 = []\n",
    "# list1.append(\"The authors introduce a general solution \")\n",
    "# list1.append(\"The solution is named ALT.\")\n",
    "# list1.append(\"It's a method that works alongside most existing GNNs.\")\n",
    "# list1.append(\"The solution handles graphs with low homophily effectively.\")\n",
    "# list1.append(\"The solution handles graphs with high homophily effectively.\")\n",
    "# list1.append(\"The solution decomposes a graph into two components.\")\n",
    "# list1.append(\"The solution extracts complementary signals.\")\n",
    "# list1.append(\"The solution merges the extracted signals adaptively.\")\n",
    "# list1.append(\"The purpose of this solution is for node classification.\")\n",
    "# example[\"Authors introduce a general solution named ALT, a method that works alongside most existing GNNs to handle graphs with either low or high homophily effectively. ALT decomposes a graph into two components, extracts complementary signals, and merges them adaptively for node classification.\"]=list1"
   ]
  },
  {
   "cell_type": "code",
   "execution_count": 41,
   "metadata": {},
   "outputs": [],
   "source": [
    "list1 = []\n",
    "list1.append(\"The authors introduce a new language.\")\n",
    "list1.append(\"New language is named BetaProbLog.\")\n",
    "list1.append(\"New language is a type of PLP lannguage.\")\n",
    "list1.append(\"New language is specifically designed to model epistemic uncertainty.\")\n",
    "example[\"The authors introduce BetaProbLog, a new PLP language designed specifically to model epistemic uncertainty.\"] = list1"
   ]
  },
  {
   "cell_type": "code",
   "execution_count": 42,
   "metadata": {},
   "outputs": [],
   "source": [
    "list1 = []\n",
    "list1.append(\"The paper propose a solution.\")\n",
    "list1.append(\"The name of solution is WalkingVibe.\")\n",
    "list1.append(\"The solution applies unobtrusive vibrotactile feedback.\")\n",
    "list1.append(\"The solution is designed for VR walking experiences.\")\n",
    "list1.append(\"The solution is aimed to improve realism.\")\n",
    "list1.append(\"The solution is aimed to reduce VR sickness and discomfort.\")\n",
    "example['The paper proposes WalkingVibe, a solution which applies unobtrusive vibrotactile feedback for VR walking experiences to both improve realism and reduce VR sickness and discomfort.'] = list1"
   ]
  },
  {
   "cell_type": "code",
   "execution_count": 43,
   "metadata": {},
   "outputs": [],
   "source": [
    "list1 = []\n",
    "list1.append(\"The authors propose a new task and model\")\n",
    "list1.append(\"The task leverages a fact.\")\n",
    "list1.append(\"The model leverages a fact.\")\n",
    "list1.append(\"The fact is about image modality.\")\n",
    "list1.append(\"The image modality has no boundaries.\")\n",
    "list1.append(\"The image modality is unlike languages.\")\n",
    "example[\"This new task and model leverage the fact that the image modality, unlike languages, has no boundaries.\"] = list1"
   ]
  },
  {
   "cell_type": "code",
   "execution_count": 44,
   "metadata": {},
   "outputs": [],
   "source": [
    "list1 = []\n",
    "list1.append(\"A novel framework is proposed\")\n",
    "list1.append(\"The framework is named Domain-Switch Learning (DSL)\")\n",
    "list1.append(\"The framework operates under a hypothesis.\")\n",
    "list1.append(\"The hypothesis states that a deep model generalizes itself to different domains.\")\n",
    "list1.append(\"The generalization happens during training.\")\n",
    "list1.append(\"The model generalizes using few samples.\")\n",
    "list1.append(\"The model maintains such domain generalization capacity\")\n",
    "list1.append(\"The mode maintains domain generalization capacity for testing.\")\n",
    "example[\"A novel Domain-Switch Learning (DSL) framework is proposed under a hypothesis that if a deep model quickly generalizes itself to different domains (using few samples) during training, it will maintain such domain generalization capacity for testing.\"] = list1"
   ]
  },
  {
   "cell_type": "code",
   "execution_count": 45,
   "metadata": {},
   "outputs": [],
   "source": [
    "list1 = []\n",
    "list1.append(\"The authors propose a new VOS architecture.\")\n",
    "list1.append(\"New architecture is comprised of a model \")\n",
    "list1.append(\"The model is a light-weight model.\")\n",
    "list1.append(\"The model is a target appearance model.\")\n",
    "list1.append(\"The model is learned during the inference stage.\")\n",
    "list1.append(\"The model is for  a coarse yet robust target segmentation.\")\n",
    "list1.append(\"The architecture also includes a segmentation model.\")\n",
    "list1.append(\"The segmentation model is trained offline.\")\n",
    "list1.append(\"The segmentation model processes coarse scores.\")\n",
    "list1.append(\"\tThe segmentation model converts coarse scores into high-quality segmentation masks.\")\n",
    "example[\"The authors propose a new VOS architecture comprised of a light-weight target appearance model learned during the inference stage for a coarse yet robust target segmentation and a segmentation model trained offline to process these coarse scores into high-quality segmentation masks.\"] = list1"
   ]
  },
  {
   "cell_type": "code",
   "execution_count": 46,
   "metadata": {},
   "outputs": [],
   "source": [
    "list1 = []\n",
    "list1.append(\"The authors propose a hybird framework.\")\n",
    "list1.append(\"The framework is named 'HRO'.\")\n",
    "list1.append(\"New framework is a hybird framework\")\n",
    "list1.append(\"New framework integrates memory-augmented recurrent \")\n",
    "list1.append(\"New framework integrates one-shot representation forecasting strategies.\")\n",
    "list1.append(\"New framework can address the limitations faced by the recursive prediction models.\")\n",
    "example[\"The authors propose a 'HRO', a hybrid framework that integrates both memory-augmented recurrent and one-shot representation forecasting strategies to address the limitations faced by the recursive prediction models.\"] = list1"
   ]
  },
  {
   "cell_type": "code",
   "execution_count": 47,
   "metadata": {},
   "outputs": [],
   "source": [
    "list1 = []\n",
    "list1.append(\"The authors propose that facial behavior.\")\n",
    "list1.append(\"Facial behavior can be used as a surrogate measurement.\")\n",
    "list1.append(\"It is for specific states of mind.\")\n",
    "list1.append(\"The authors aim to predict brainwaves from face videos\")\n",
    "list1.append(\"It is formulated as an inverse proble\")\n",
    "list1.append(\"The problem related to the underlying stochastic process.\")\n",
    "example[\"The authors propose that facial behavior can be used as a surrogate measurement for specific states of mind, and they aim to predict brainwaves from face videos, which is formulated as an inverse problem of the underlying stochastic process.\"] = list1"
   ]
  },
  {
   "cell_type": "code",
   "execution_count": 48,
   "metadata": {},
   "outputs": [],
   "source": [
    "list1 = []\n",
    "list1.append(\"The authors propose to combine two processes into a framework.\")\n",
    "list1.append(\"The authors propose to combine perceptual inference.\")\n",
    "list1.append(\"The authors propose to combine memory retrieval.\")\n",
    "list1.append(\"The framework is a single mathematical framework.\")\n",
    "list1.append(\"The framework is based on variational inference.\")\n",
    "list1.append(\"The framework uses a formulation of variational inference.\")\n",
    "list1.append(\"The formulation applies to auto-associative memories.\")\n",
    "example[\"The authors propose to combine perceptual inference and memory retrieval into a single mathematical framework through a variational inference formulation of auto-associative memories.\"] = list1"
   ]
  },
  {
   "cell_type": "code",
   "execution_count": 49,
   "metadata": {},
   "outputs": [],
   "source": [
    "list1 = []\n",
    "list1.append(\"The authors propose RareGAN.\")\n",
    "list1.append(\"RareGAN is a synthesis of three ideas.\")\n",
    "list1.append(\"The first idea is to extend conditional GANs.\")\n",
    "list1.append(\"Conditional GANs are extended to use labeled and unlabeled data for better generalization.\")\n",
    "list1.append(\"The second idea is an active learning approach.\")\n",
    "list1.append(\"The active learning approach requests the most useful labels.\")\n",
    "list1.append(\"The third idea is a weighted loss function.\")\n",
    "list1.append(\"The weighted loss function favors learning the rare class.\")\n",
    "example[\"The authors propose RareGAN, a synthesis of three ideas: extending conditional GANs to use labeled and unlabeled data for better generalization, an active learning approach that requests the most useful labels, and a weighted loss function to favor learning the rare class.\"] = list1"
   ]
  },
  {
   "cell_type": "code",
   "execution_count": 50,
   "metadata": {},
   "outputs": [],
   "source": [
    "with open(\".cache/factscore/demos/key_idea_demos.json\", \"w\") as json_file:\n",
    "    json.dump(example, json_file, indent=4)\n"
   ]
  }
 ],
 "metadata": {
  "kernelspec": {
   "display_name": "fast",
   "language": "python",
   "name": "python3"
  },
  "language_info": {
   "codemirror_mode": {
    "name": "ipython",
    "version": 3
   },
   "file_extension": ".py",
   "mimetype": "text/x-python",
   "name": "python",
   "nbconvert_exporter": "python",
   "pygments_lexer": "ipython3",
   "version": "3.10.14"
  }
 },
 "nbformat": 4,
 "nbformat_minor": 2
}
